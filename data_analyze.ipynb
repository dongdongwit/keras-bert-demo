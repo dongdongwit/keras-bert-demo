{
 "cells": [
  {
   "cell_type": "code",
   "execution_count": 1,
   "metadata": {},
   "outputs": [],
   "source": [
    "import numpy as np\n",
    "import pandas as pd\n",
    "import pickle\n",
    "from matplotlib import pyplot as plt"
   ]
  },
  {
   "cell_type": "code",
   "execution_count": 11,
   "metadata": {
    "collapsed": true
   },
   "outputs": [],
   "source": [
    "def parser_excel(excel_path, class_num, label1_id, label2_id):\n",
    "    train_excel = pd.read_excel(excel_path, header=None, skiprows=[0])\n",
    "    label1 = []\n",
    "    for row in train_excel[1]:\n",
    "        label1.append(label1_id[row])\n",
    "    label2 = []\n",
    "    for row in train_excel[2]:\n",
    "        label2.append(label2_id[row])\n",
    "    data = []\n",
    "    for index in range(len(train_excel[4])):\n",
    "        data.append((train_excel[4][index], np.eye(class_num[0])[label1[index]],\n",
    "                     np.eye(class_num[1])[label2[index]]))\n",
    "    return data\n",
    "def get_id_label(label_id):\n",
    "    id_label = {}\n",
    "    for k in label_id:\n",
    "        id_label[label_id[k]] = k\n",
    "    return id_label"
   ]
  },
  {
   "cell_type": "code",
   "execution_count": 12,
   "metadata": {},
   "outputs": [],
   "source": [
    "label1_id = {}\n",
    "label2_id = {}\n",
    "id_label1 = {}\n",
    "id_label2 = {}\n",
    "with open(\"data/label1_id.pkl\", 'rb') as f:\n",
    "    label1_id = pickle.load(f)\n",
    "    id_label1 = get_id_label(label1_id)\n",
    "with open(\"data/label2_id.pkl\", 'rb') as f:\n",
    "    label2_id = pickle.load(f)\n",
    "    id_label2 = get_id_label(label2_id)\n",
    "class_num = [len(label1_id), len(label2_id)]\n",
    "train_data = parser_excel(\"data/data_clean_label1_train.xlsx\", class_num, label1_id, label2_id)\n",
    "valid_data = parser_excel(\"data/data_clean_label1_valid.xlsx\", class_num, label1_id, label2_id)\n",
    "label1_list = [id_label1[np.argmax(d[1])] for d in train_data]\n",
    "label2_list = [id_label2[np.argmax(d[2])] for d in train_data]"
   ]
  },
  {
   "cell_type": "code",
   "execution_count": 13,
   "metadata": {},
   "outputs": [
    {
     "data": {
      "text/plain": [
       "({'Abandon': 2, 'Accelerate': 1, 'Advance': 0},\n",
       " {0: 'Advance', 1: 'Accelerate', 2: 'Abandon'})"
      ]
     },
     "execution_count": 13,
     "metadata": {},
     "output_type": "execute_result"
    }
   ],
   "source": [
    "label1_id, id_label1"
   ]
  },
  {
   "cell_type": "code",
   "execution_count": null,
   "metadata": {
    "collapsed": true
   },
   "outputs": [],
   "source": []
  },
  {
   "cell_type": "code",
   "execution_count": 15,
   "metadata": {},
   "outputs": [
    {
     "data": {
      "text/plain": [
       "(array([31, 18, 21], dtype=int64),\n",
       " array([0.        , 0.66666667, 1.33333333, 2.        ]))"
      ]
     },
     "execution_count": 15,
     "metadata": {},
     "output_type": "execute_result"
    }
   ],
   "source": [
    "train_list = [np.argmax(d[1]) for d in train_data]\n",
    "train_hist = np.histogram(train_list, len(label1_id))\n",
    "train_hist"
   ]
  },
  {
   "cell_type": "code",
   "execution_count": 13,
   "metadata": {},
   "outputs": [
    {
     "data": {
      "text/plain": [
       "array([2.25806452, 3.88888889, 3.33333333])"
      ]
     },
     "execution_count": 13,
     "metadata": {},
     "output_type": "execute_result"
    }
   ],
   "source": [
    "len(train_data) / train_hist[0]"
   ]
  },
  {
   "cell_type": "code",
   "execution_count": null,
   "metadata": {
    "collapsed": true
   },
   "outputs": [],
   "source": []
  },
  {
   "cell_type": "markdown",
   "metadata": {},
   "source": [
    "### label1"
   ]
  },
  {
   "cell_type": "code",
   "execution_count": 17,
   "metadata": {},
   "outputs": [
    {
     "data": {
      "image/png": "[encoded data removed]",
      "text/plain": [
       "<Figure size 432x288 with 1 Axes>"
      ]
     },
     "metadata": {},
     "output_type": "display_data"
    }
   ],
   "source": [
    "plt.hist([id_label1[np.argmax(d[1])] for d in train_data], 50)\n",
    "plt.show()"
   ]
  },
  {
   "cell_type": "code",
   "execution_count": 18,
   "metadata": {},
   "outputs": [
    {
     "data": {
      "image/png": "[encoded data removed]",
      "text/plain": [
       "<Figure size 432x288 with 1 Axes>"
      ]
     },
     "metadata": {},
     "output_type": "display_data"
    }
   ],
   "source": [
    "plt.hist([id_label1[np.argmax(d[1])] for d in valid_data], 50)\n",
    "plt.show()"
   ]
  },
  {
   "cell_type": "markdown",
   "metadata": {},
   "source": [
    "### label2"
   ]
  },
  {
   "cell_type": "code",
   "execution_count": 22,
   "metadata": {},
   "outputs": [
    {
     "data": {
      "image/png": "[encoded data removed]",
      "text/plain": [
       "<Figure size 432x288 with 1 Axes>"
      ]
     },
     "metadata": {},
     "output_type": "display_data"
    }
   ],
   "source": [
    "plt.hist([id_label2[np.argmax(d[2])] for d in train_data], 50)\n",
    "plt.show()"
   ]
  },
  {
   "cell_type": "code",
   "execution_count": 20,
   "metadata": {},
   "outputs": [
    {
     "data": {
      "image/png": "[encoded data removed]",
      "text/plain": [
       "<Figure size 432x288 with 1 Axes>"
      ]
     },
     "metadata": {},
     "output_type": "display_data"
    }
   ],
   "source": [
    "plt.hist([id_label2[np.argmax(d[2])] for d in valid_data], 50)\n",
    "plt.show()"
   ]
  },
  {
   "cell_type": "code",
   "execution_count": null,
   "metadata": {
    "collapsed": true
   },
   "outputs": [],
   "source": []
  }
 ],
 "metadata": {
  "kernelspec": {
   "display_name": "Python 3",
   "language": "python",
   "name": "python3"
  },
  "language_info": {
   "codemirror_mode": {
    "name": "ipython",
    "version": 3
   },
   "file_extension": ".py",
   "mimetype": "text/x-python",
   "name": "python",
   "nbconvert_exporter": "python",
   "pygments_lexer": "ipython3",
   "version": "3.5.6"
  }
 },
 "nbformat": 4,
 "nbformat_minor": 2
}
